{
 "cells": [
  {
   "cell_type": "code",
   "execution_count": null,
   "id": "8e886cfc-719b-4240-b13f-00c1dd9d4f23",
   "metadata": {},
   "outputs": [],
   "source": [
    "set A\n",
    "Q1"
   ]
  },
  {
   "cell_type": "code",
   "execution_count": 2,
   "id": "84d3d984-ec81-446b-bebc-cf658531763f",
   "metadata": {},
   "outputs": [
    {
     "name": "stdout",
     "output_type": "stream",
     "text": [
      "      Name   Age  Percentage\n",
      "0      Ram  19.0        70.0\n",
      "1    Shyam  20.0         NaN\n",
      "2      Raj  21.0        81.0\n",
      "3    Viraj   NaN        73.0\n",
      "4       Om  19.0        74.0\n",
      "5       Om  19.0        74.0\n",
      "6   Anurag  20.0        72.0\n",
      "7  Durgesh  21.0        89.0\n",
      "8  Durgesh  21.0        89.0\n",
      "9    Virat   NaN        91.0\n"
     ]
    }
   ],
   "source": [
    "\n",
    "import numpy as np\n",
    "import pandas as pd\n",
    "\n",
    "df = pd.DataFrame(columns = ['Name','Age','Percentage'])\n",
    "\n",
    "df.loc[0] = [\"Ram\",19,70]\n",
    "df.loc[1] = [\"Shyam\",20,np.nan]\n",
    "df.loc[2] = [\"Raj\",21,81]\n",
    "df.loc[3] = [\"Viraj\",np.nan,73]\n",
    "df.loc[4] = [\"Om\",19,74]\n",
    "df.loc[5] = [\"Om\",19,74]\n",
    "df.loc[6] = [\"Anurag\",20,72]\n",
    "df.loc[7] = [\"Durgesh\",21,89]\n",
    "df.loc[8] = [\"Durgesh\",21,89]\n",
    "df.loc[9] = [\"Virat\",np.nan,91]\n",
    "\n",
    "print(df)"
   ]
  },
  {
   "cell_type": "code",
   "execution_count": null,
   "id": "9d77e6e3-f129-4f99-8357-ff78827360f7",
   "metadata": {},
   "outputs": [],
   "source": [
    "Q2"
   ]
  },
  {
   "cell_type": "code",
   "execution_count": 4,
   "id": "0ef51bb6-1761-4be3-ba2c-6464b481e0af",
   "metadata": {},
   "outputs": [
    {
     "name": "stdout",
     "output_type": "stream",
     "text": [
      "(10, 3)\n",
      "\n",
      "Number of columns:  10\n",
      "\n",
      " Name           object\n",
      "Age           float64\n",
      "Percentage    float64\n",
      "dtype: object\n",
      "\n",
      "             Age  Percentage\n",
      "count   8.00000    9.000000\n",
      "mean   20.00000   79.222222\n",
      "std     0.92582    8.393119\n",
      "min    19.00000   70.000000\n",
      "25%    19.00000   73.000000\n",
      "50%    20.00000   74.000000\n",
      "75%    21.00000   89.000000\n",
      "max    21.00000   91.000000\n"
     ]
    }
   ],
   "source": [
    "print(df.shape,)\n",
    "print(\"\\nNumber of columns: \",len(df.axes[0]))\n",
    "print(\"\\n\",df.dtypes)\n",
    "print(\"\\n\",df.describe())"
   ]
  },
  {
   "cell_type": "code",
   "execution_count": null,
   "id": "beb22efb-809a-4077-83e4-f44c730a8488",
   "metadata": {},
   "outputs": [],
   "source": [
    "Q3"
   ]
  },
  {
   "cell_type": "code",
   "execution_count": 5,
   "id": "a02882f9-0a82-4b75-8ab7-2e1f2976a64c",
   "metadata": {},
   "outputs": [
    {
     "name": "stdout",
     "output_type": "stream",
     "text": [
      "            Age  Percentage\n",
      "count   8.00000    9.000000\n",
      "mean   20.00000   79.222222\n",
      "std     0.92582    8.393119\n",
      "min    19.00000   70.000000\n",
      "25%    19.00000   73.000000\n",
      "50%    20.00000   74.000000\n",
      "75%    21.00000   89.000000\n",
      "max    21.00000   91.000000\n"
     ]
    }
   ],
   "source": [
    "print(df.describe())"
   ]
  },
  {
   "cell_type": "code",
   "execution_count": null,
   "id": "a5fc12bd-4b74-4ed0-9e5f-63955794a865",
   "metadata": {},
   "outputs": [],
   "source": [
    "Q4"
   ]
  },
  {
   "cell_type": "code",
   "execution_count": 6,
   "id": "3776e479-8477-4122-baed-dfa6f59143f2",
   "metadata": {},
   "outputs": [
    {
     "name": "stdout",
     "output_type": "stream",
     "text": [
      "       Name   Age  Percentage Remarks\n",
      "0       Ram  19.0        70.0    None\n",
      "1     Shyam  20.0         NaN    None\n",
      "2       Raj  21.0        81.0    None\n",
      "3     Viraj   NaN        73.0    None\n",
      "4        Om  19.0        74.0    None\n",
      "5        Om  19.0        74.0    None\n",
      "6    Anurag  20.0        72.0    None\n",
      "7   Durgesh  21.0        89.0    None\n",
      "8   Durgesh  21.0        89.0    None\n",
      "9     Virat   NaN        91.0    None\n",
      "10   Nikhil  19.0        65.0    None\n",
      "11    Vijay  20.0        71.0    None\n",
      "12    Vijay  20.0        71.0    None\n",
      "13   Prasad  21.0        83.0    None\n",
      "14    Vinod  19.0        86.0    None\n"
     ]
    }
   ],
   "source": [
    "df.loc[10] = [\"Nikhil\",19,65]\n",
    "df.loc[11] = [\"Vijay\",20,71]\n",
    "df.loc[12] = [\"Vijay\",20,71]\n",
    "df.loc[13] = [\"Prasad\",21,83]\n",
    "df.loc[14] = [\"Vinod\",19,86]\n",
    "\n",
    "df[\"Remarks\"] = None\n",
    "\n",
    "print(df)"
   ]
  },
  {
   "cell_type": "code",
   "execution_count": null,
   "id": "9d0a87b9-2ea3-4bbb-a686-30421fe4afb1",
   "metadata": {},
   "outputs": [],
   "source": [
    "Q5"
   ]
  },
  {
   "cell_type": "code",
   "execution_count": 7,
   "id": "218c6e41-f503-4139-8985-c60315dbfbe5",
   "metadata": {},
   "outputs": [
    {
     "name": "stdout",
     "output_type": "stream",
     "text": [
      "Number of observations:  15\n",
      "\n",
      "Missing values:\n",
      "      Name    Age  Percentage  Remarks\n",
      "0   False  False       False     True\n",
      "1   False  False        True     True\n",
      "2   False  False       False     True\n",
      "3   False   True       False     True\n",
      "4   False  False       False     True\n",
      "5   False  False       False     True\n",
      "6   False  False       False     True\n",
      "7   False  False       False     True\n",
      "8   False  False       False     True\n",
      "9   False   True       False     True\n",
      "10  False  False       False     True\n",
      "11  False  False       False     True\n",
      "12  False  False       False     True\n",
      "13  False  False       False     True\n",
      "14  False  False       False     True\n",
      "\n",
      "Duplicate values:\n",
      " 0     False\n",
      "1     False\n",
      "2     False\n",
      "3     False\n",
      "4     False\n",
      "5      True\n",
      "6     False\n",
      "7     False\n",
      "8      True\n",
      "9     False\n",
      "10    False\n",
      "11    False\n",
      "12     True\n",
      "13    False\n",
      "14    False\n",
      "dtype: bool\n"
     ]
    }
   ],
   "source": [
    "print(\"Number of observations: \",len(df.index))\n",
    "print(\"\\nMissing values:\\n\",df.isnull())\n",
    "print(\"\\nDuplicate values:\\n\",df.duplicated())"
   ]
  },
  {
   "cell_type": "code",
   "execution_count": null,
   "id": "acf554e0-f528-4abc-8b37-d7a6f78585cb",
   "metadata": {},
   "outputs": [],
   "source": [
    "Q6"
   ]
  },
  {
   "cell_type": "code",
   "execution_count": 8,
   "id": "2de81d21-8c35-4ab8-81c9-7a9d350f2e25",
   "metadata": {},
   "outputs": [
    {
     "name": "stdout",
     "output_type": "stream",
     "text": [
      "       Name   Age  Percentage\n",
      "0       Ram  19.0        70.0\n",
      "2       Raj  21.0        81.0\n",
      "4        Om  19.0        74.0\n",
      "5        Om  19.0        74.0\n",
      "6    Anurag  20.0        72.0\n",
      "7   Durgesh  21.0        89.0\n",
      "8   Durgesh  21.0        89.0\n",
      "10   Nikhil  19.0        65.0\n",
      "11    Vijay  20.0        71.0\n",
      "12    Vijay  20.0        71.0\n",
      "13   Prasad  21.0        83.0\n",
      "14    Vinod  19.0        86.0\n"
     ]
    }
   ],
   "source": [
    "df.drop(columns = \"Remarks\", axis=1, inplace = True)\n",
    "df.dropna(inplace = True)\n",
    "print(df)"
   ]
  },
  {
   "cell_type": "code",
   "execution_count": null,
   "id": "f291033e-681d-444c-9c27-8cf0957c15b8",
   "metadata": {},
   "outputs": [],
   "source": [
    "Q7"
   ]
  },
  {
   "cell_type": "code",
   "execution_count": 11,
   "id": "fd1ea40c-ff90-4076-8c58-d16a222e7363",
   "metadata": {},
   "outputs": [
    {
     "data": {
      "image/png": "[encoded data removed]",
      "text/plain": [
       "<Figure size 640x480 with 1 Axes>"
      ]
     },
     "metadata": {},
     "output_type": "display_data"
    }
   ],
   "source": [
    "import matplotlib.pyplot as plt\n",
    "import seaborn as sns\n",
    "\n",
    "df.plot(x = \"Name\", y = \"Percentage\")\n",
    "plt.show()"
   ]
  },
  {
   "cell_type": "code",
   "execution_count": null,
   "id": "f74159e4-041d-49f9-bf60-8aadab71195c",
   "metadata": {},
   "outputs": [],
   "source": [
    "Q8"
   ]
  },
  {
   "cell_type": "code",
   "execution_count": 13,
   "id": "7f7458ae-e82c-440a-99c9-40ad83723fa9",
   "metadata": {},
   "outputs": [
    {
     "data": {
      "image/png": "[encoded data removed]",
      "text/plain": [
       "<Figure size 640x480 with 1 Axes>"
      ]
     },
     "metadata": {},
     "output_type": "display_data"
    }
   ],
   "source": [
    "plt.scatter(x = df['Name'], y = df['Percentage'])\n",
    "plt.show()"
   ]
  },
  {
   "cell_type": "code",
   "execution_count": null,
   "id": "e809987f-4dfd-48dd-bc35-c2beb521ad7a",
   "metadata": {},
   "outputs": [],
   "source": [
    "SET B\n",
    "Q1"
   ]
  },
  {
   "cell_type": "code",
   "execution_count": 15,
   "id": "531bac34-9087-4f8f-8f17-863783c2e996",
   "metadata": {},
   "outputs": [
    {
     "name": "stdout",
     "output_type": "stream",
     "text": [
      "    Height  Weight\n",
      "0    170.0    70.0\n",
      "1    171.0    71.0\n",
      "2    172.0    72.0\n",
      "3    173.0    73.0\n",
      "4      NaN    74.0\n",
      "5    175.0    75.0\n",
      "6    176.0    76.0\n",
      "7    177.0     NaN\n",
      "8    178.0    78.0\n",
      "9    179.0    79.0\n",
      "10   180.0     NaN\n",
      "11     NaN    81.0\n",
      "12   182.0    82.0\n",
      "13   183.0    83.0\n",
      "14   184.0    84.0\n",
      "15   185.0    85.0\n",
      "16   186.0    86.0\n",
      "17   187.0    87.0\n",
      "18   188.0    88.0\n",
      "19   189.0    89.0\n",
      "\n",
      "    Height  Weight\n",
      "0   170.0    70.0\n",
      "1   171.0    71.0\n",
      "2   172.0    72.0\n",
      "3   173.0    73.0\n",
      "4     NaN    74.0\n",
      "5   175.0    75.0\n",
      "6   176.0    76.0\n",
      "7   177.0     NaN\n",
      "8   178.0    78.0\n",
      "9   179.0    79.0\n",
      "\n",
      "     Height  Weight\n",
      "10   180.0     NaN\n",
      "11     NaN    81.0\n",
      "12   182.0    82.0\n",
      "13   183.0    83.0\n",
      "14   184.0    84.0\n",
      "15   185.0    85.0\n",
      "16   186.0    86.0\n",
      "17   187.0    87.0\n",
      "18   188.0    88.0\n",
      "19   189.0    89.0\n",
      "\n",
      "     Height  Weight\n",
      "7    177.0     NaN\n",
      "0    170.0    70.0\n",
      "8    178.0    78.0\n",
      "6    176.0    76.0\n",
      "13   183.0    83.0\n",
      "19   189.0    89.0\n",
      "11     NaN    81.0\n",
      "14   184.0    84.0\n",
      "9    179.0    79.0\n",
      "18   188.0    88.0\n"
     ]
    }
   ],
   "source": [
    "import pandas as pd\n",
    "\n",
    "#path = r'Height.csv'\n",
    "path = r'Height.csv'\n",
    "data = pd.read_csv(path)\n",
    "df = pd.DataFrame(data)\n",
    "print(df)\n",
    "print(\"\\n\",df.head(10))\n",
    "print(\"\\n\",df.tail(10))\n",
    "print(\"\\n\",df.sample(10))"
   ]
  },
  {
   "cell_type": "code",
   "execution_count": null,
   "id": "7a9ce425-4864-4e3f-a6be-4b4b0009ed03",
   "metadata": {},
   "outputs": [],
   "source": [
    "Q2"
   ]
  },
  {
   "cell_type": "code",
   "execution_count": 16,
   "id": "99551ba9-151c-4e54-b770-01826f87e7e0",
   "metadata": {},
   "outputs": [
    {
     "name": "stdout",
     "output_type": "stream",
     "text": [
      "(20, 2)\n",
      "\n",
      " 40\n",
      "\n",
      " Height    float64\n",
      "Weight    float64\n",
      "dtype: object\n"
     ]
    }
   ],
   "source": [
    "print(df.shape)\n",
    "print(\"\\n\",df.size)\n",
    "print(\"\\n\",df.dtypes)"
   ]
  },
  {
   "cell_type": "code",
   "execution_count": null,
   "id": "867c9080-f946-48a2-9b90-e9bc0f25d6d4",
   "metadata": {},
   "outputs": [],
   "source": [
    "Q3"
   ]
  },
  {
   "cell_type": "code",
   "execution_count": 22,
   "id": "5e60911d-9266-4ea9-9f43-843457063a17",
   "metadata": {},
   "outputs": [
    {
     "name": "stdout",
     "output_type": "stream",
     "text": [
      "           Height     Weight        BMI\n",
      "count   18.000000  18.000000  16.000000\n",
      "mean   179.722222  79.611111   0.002464\n",
      "std      6.095375   6.222718   0.000024\n",
      "min    170.000000  70.000000   0.002422\n",
      "25%    175.250000  74.250000   0.002447\n",
      "50%    179.500000  80.000000   0.002471\n",
      "75%    184.750000  84.750000   0.002484\n",
      "max    189.000000  89.000000   0.002492\n"
     ]
    }
   ],
   "source": [
    "print(df.describe())"
   ]
  },
  {
   "cell_type": "code",
   "execution_count": null,
   "id": "6f56e32f-ec8e-4170-9a82-7980cce50e32",
   "metadata": {},
   "outputs": [],
   "source": [
    "Q4"
   ]
  },
  {
   "cell_type": "code",
   "execution_count": 18,
   "id": "205a6169-1f15-4ddb-a9be-84cb1432af2b",
   "metadata": {},
   "outputs": [
    {
     "name": "stdout",
     "output_type": "stream",
     "text": [
      "Number of observations:  20\n",
      "\n",
      "Missing values:\n",
      "     Height  Weight\n",
      "0    False   False\n",
      "1    False   False\n",
      "2    False   False\n",
      "3    False   False\n",
      "4     True   False\n",
      "5    False   False\n",
      "6    False   False\n",
      "7    False    True\n",
      "8    False   False\n",
      "9    False   False\n",
      "10   False    True\n",
      "11    True   False\n",
      "12   False   False\n",
      "13   False   False\n",
      "14   False   False\n",
      "15   False   False\n",
      "16   False   False\n",
      "17   False   False\n",
      "18   False   False\n",
      "19   False   False\n"
     ]
    }
   ],
   "source": [
    "print(\"Number of observations: \",len(df.index))\n",
    "print(\"\\nMissing values:\\n\",df.isnull())"
   ]
  },
  {
   "cell_type": "code",
   "execution_count": null,
   "id": "55286828-707b-4025-96ff-6eed55cab065",
   "metadata": {},
   "outputs": [],
   "source": [
    "Q5"
   ]
  },
  {
   "cell_type": "code",
   "execution_count": 23,
   "id": "d738e172-1270-43f5-85ab-d6f26cd29c67",
   "metadata": {},
   "outputs": [
    {
     "name": "stdout",
     "output_type": "stream",
     "text": [
      "    Height  Weight       BMI\n",
      "0    170.0    70.0  0.002422\n",
      "1    171.0    71.0  0.002428\n",
      "2    172.0    72.0  0.002434\n",
      "3    173.0    73.0  0.002439\n",
      "4      NaN    74.0       NaN\n",
      "5    175.0    75.0  0.002449\n",
      "6    176.0    76.0  0.002454\n",
      "7    177.0     NaN       NaN\n",
      "8    178.0    78.0  0.002462\n",
      "9    179.0    79.0  0.002466\n",
      "10   180.0     NaN       NaN\n",
      "11     NaN    81.0       NaN\n",
      "12   182.0    82.0  0.002476\n",
      "13   183.0    83.0  0.002478\n",
      "14   184.0    84.0  0.002481\n",
      "15   185.0    85.0  0.002484\n",
      "16   186.0    86.0  0.002486\n",
      "17   187.0    87.0  0.002488\n",
      "18   188.0    88.0  0.002490\n",
      "19   189.0    89.0  0.002492\n"
     ]
    }
   ],
   "source": [
    "df['BMI'] = (df['Weight'] / df['Height'] ** 2)\n",
    "print(df)"
   ]
  },
  {
   "cell_type": "code",
   "execution_count": null,
   "id": "c5b218f8-10e1-46ba-88a0-e0d35d4dd806",
   "metadata": {},
   "outputs": [],
   "source": [
    "Q6"
   ]
  },
  {
   "cell_type": "code",
   "execution_count": 20,
   "id": "9fd1db84-ff3e-44d6-9cfc-91bff3cb2e92",
   "metadata": {},
   "outputs": [
    {
     "name": "stdout",
     "output_type": "stream",
     "text": [
      "Max value:  0.0024915315920606925\n",
      "\n",
      "Min value:  0.002422145328719723\n"
     ]
    }
   ],
   "source": [
    "print(\"Max value: \",max(df['BMI']))\n",
    "print(\"\\nMin value: \",min(df['BMI']))"
   ]
  },
  {
   "cell_type": "code",
   "execution_count": null,
   "id": "66d9dd50-3079-4f48-8d95-bea5c21fc046",
   "metadata": {},
   "outputs": [],
   "source": [
    "Q7"
   ]
  },
  {
   "cell_type": "code",
   "execution_count": 21,
   "id": "57face99-976a-4964-866d-c21da97d49cc",
   "metadata": {},
   "outputs": [
    {
     "data": {
      "image/png": "[encoded data removed]",
      "text/plain": [
       "<Figure size 640x480 with 1 Axes>"
      ]
     },
     "metadata": {},
     "output_type": "display_data"
    }
   ],
   "source": [
    "import numpy as np\n",
    "import matplotlib.pyplot as plt\n",
    "import seaborn as sns\n",
    "\n",
    "plt.scatter(x = df['Height'], y = df['Weight'])\n",
    "plt.title(\"Scatter plot\")\n",
    "plt.show()"
   ]
  }
 ],
 "metadata": {
  "kernelspec": {
   "display_name": "Python 3 (ipykernel)",
   "language": "python",
   "name": "python3"
  },
  "language_info": {
   "codemirror_mode": {
    "name": "ipython",
    "version": 3
   },
   "file_extension": ".py",
   "mimetype": "text/x-python",
   "name": "python",
   "nbconvert_exporter": "python",
   "pygments_lexer": "ipython3",
   "version": "3.11.4"
  }
 },
 "nbformat": 4,
 "nbformat_minor": 5
}
