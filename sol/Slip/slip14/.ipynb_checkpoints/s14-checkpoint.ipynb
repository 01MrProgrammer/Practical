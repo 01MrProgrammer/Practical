{
 "cells": [
  {
   "cell_type": "code",
   "execution_count": 1,
   "id": "77ddd153-deef-455f-b8c0-84f0b441643d",
   "metadata": {},
   "outputs": [
    {
     "name": "stdout",
     "output_type": "stream",
     "text": [
      "Weighted Average: 3.0\n"
     ]
    }
   ],
   "source": [
    "#s14\n",
    "import numpy as np\n",
    "\n",
    "# Create a sample flattened array\n",
    "data = np.array([1, 2, 3, 4, 5])\n",
    "\n",
    "# Create weights (in this example, [0.1, 0.2, 0.3, 0.2, 0.1])\n",
    "weights = np.array([0.1, 0.2, 0.3, 0.2, 0.1])\n",
    "\n",
    "# Compute the weighted average along the specified axis (axis=0 in this case)\n",
    "weighted_average = np.average(data, weights=weights)\n",
    "\n",
    "print(\"Weighted Average:\", weighted_average)"
   ]
  },
  {
   "cell_type": "code",
   "execution_count": 2,
   "id": "0827f0ae-1678-4f49-8961-37b9dc92c987",
   "metadata": {},
   "outputs": [
    {
     "name": "stdout",
     "output_type": "stream",
     "text": [
      "Basic Statistical Details of Advertising Data:\n",
      "       Unnamed: 0          TV       Radio   Newspaper       Sales\n",
      "count  200.000000  200.000000  200.000000  200.000000  200.000000\n",
      "mean   100.500000  147.042500   23.264000   30.554000   14.022500\n",
      "std     57.879185   85.854236   14.846809   21.778621    5.217457\n",
      "min      1.000000    0.700000    0.000000    0.300000    1.600000\n",
      "25%     50.750000   74.375000    9.975000   12.750000   10.375000\n",
      "50%    100.500000  149.750000   22.900000   25.750000   12.900000\n",
      "75%    150.250000  218.825000   36.525000   45.100000   17.400000\n",
      "max    200.000000  296.400000   49.600000  114.000000   27.000000\n"
     ]
    }
   ],
   "source": [
    "import pandas as pd\n",
    "\n",
    "# Load the advertising dataset (replace 'advertising.csv' with the actual file path)\n",
    "data = pd.read_csv('advertising.csv')\n",
    "\n",
    "# Display basic statistical details using describe()\n",
    "statistics = data.describe()\n",
    "\n",
    "print(\"Basic Statistical Details of Advertising Data:\")\n",
    "print(statistics)"
   ]
  },
  {
   "cell_type": "code",
   "execution_count": null,
   "id": "5ce161c8-a1c4-4263-a51f-e1c8c45af2c9",
   "metadata": {},
   "outputs": [],
   "source": []
  }
 ],
 "metadata": {
  "kernelspec": {
   "display_name": "Python 3 (ipykernel)",
   "language": "python",
   "name": "python3"
  },
  "language_info": {
   "codemirror_mode": {
    "name": "ipython",
    "version": 3
   },
   "file_extension": ".py",
   "mimetype": "text/x-python",
   "name": "python",
   "nbconvert_exporter": "python",
   "pygments_lexer": "ipython3",
   "version": "3.10.7"
  }
 },
 "nbformat": 4,
 "nbformat_minor": 5
}
