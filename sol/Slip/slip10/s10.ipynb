{
 "cells": [
  {
   "cell_type": "code",
   "execution_count": 1,
   "id": "d02f1079-af96-49f5-a2b2-863c424bc19c",
   "metadata": {},
   "outputs": [
    {
     "name": "stdout",
     "output_type": "stream",
     "text": [
      "Column-wise Mean and Median:\n",
      "Mean Height: 66.36755975482124\n",
      "Median Height: 66.31807008178464\n",
      "Mean Weight: 161.44035683283076\n",
      "Median Weight: 161.21292769948298\n"
     ]
    }
   ],
   "source": [
    "#s10\n",
    "import pandas as pd\n",
    "\n",
    "# Load the dataset (replace 'SOCRHeightWeight.csv' with the actual file path)\n",
    "data = pd.read_csv('SOCRHeightWeight.csv')\n",
    "\n",
    "# Calculate column-wise mean and median\n",
    "mean_height = data['Height'].mean()\n",
    "median_height = data['Height'].median()\n",
    "mean_weight = data['Weight'].mean()\n",
    "median_weight = data['Weight'].median()\n",
    "\n",
    "# Display the results\n",
    "print(\"Column-wise Mean and Median:\")\n",
    "print(f\"Mean Height: {mean_height}\")\n",
    "print(f\"Median Height: {median_height}\")\n",
    "print(f\"Mean Weight: {mean_weight}\")\n",
    "print(f\"Median Weight: {median_weight}\")"
   ]
  },
  {
   "cell_type": "code",
   "execution_count": 2,
   "id": "5d8c7565-a2e3-4bf3-95b1-9bda9e9eb081",
   "metadata": {},
   "outputs": [
    {
     "name": "stdout",
     "output_type": "stream",
     "text": [
      "Sum of Manhattan Distance between All Pairs of Points: 16\n"
     ]
    }
   ],
   "source": [
    "import itertools\n",
    "\n",
    "# Sample list of points (replace with your own list of coordinates)\n",
    "points = [(1, 2), (3, 4), (5, 6)]\n",
    "\n",
    "# Initialize the sum\n",
    "manhattan_sum = 0\n",
    "\n",
    "# Calculate Manhattan distance between all pairs of points\n",
    "for point1, point2 in itertools.combinations(points, 2):\n",
    "    distance = sum(abs(a - b) for a, b in zip(point1, point2))\n",
    "    manhattan_sum += distance\n",
    "\n",
    "# Display the sum of Manhattan distances\n",
    "print(\"Sum of Manhattan Distance between All Pairs of Points:\", manhattan_sum)"
   ]
  },
  {
   "cell_type": "code",
   "execution_count": null,
   "id": "27b9c797-c2fb-485b-afa4-1ca25deab016",
   "metadata": {},
   "outputs": [],
   "source": []
  }
 ],
 "metadata": {
  "kernelspec": {
   "display_name": "Python 3 (ipykernel)",
   "language": "python",
   "name": "python3"
  },
  "language_info": {
   "codemirror_mode": {
    "name": "ipython",
    "version": 3
   },
   "file_extension": ".py",
   "mimetype": "text/x-python",
   "name": "python",
   "nbconvert_exporter": "python",
   "pygments_lexer": "ipython3",
   "version": "3.10.7"
  }
 },
 "nbformat": 4,
 "nbformat_minor": 5
}
