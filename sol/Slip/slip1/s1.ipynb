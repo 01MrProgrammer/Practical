{
 "cells": [
  {
   "cell_type": "code",
   "execution_count": 1,
   "id": "4a0b2789-3c1c-4c22-ab8b-c1720d7d53c9",
   "metadata": {},
   "outputs": [
    {
     "ename": "NameError",
     "evalue": "name 'plt' is not defined",
     "output_type": "error",
     "traceback": [
      "\u001b[1;31m---------------------------------------------------------------------------\u001b[0m",
      "\u001b[1;31mNameError\u001b[0m                                 Traceback (most recent call last)",
      "\u001b[1;32md:\\Practical\\sol\\Slip\\slip1\\s1.ipynb Cell 1\u001b[0m line \u001b[0;36m4\n\u001b[0;32m      <a href='vscode-notebook-cell:/d%3A/Practical/sol/Slip/slip1/s1.ipynb#W0sZmlsZQ%3D%3D?line=0'>1</a>\u001b[0m \u001b[39mfrom\u001b[39;00m \u001b[39mpandas\u001b[39;00m \u001b[39mimport\u001b[39;00m \u001b[39m*\u001b[39m\n\u001b[0;32m      <a href='vscode-notebook-cell:/d%3A/Practical/sol/Slip/slip1/s1.ipynb#W0sZmlsZQ%3D%3D?line=1'>2</a>\u001b[0m df\u001b[39m=\u001b[39mread_csv(\u001b[39mr\u001b[39m\u001b[39m\"\u001b[39m\u001b[39miris.csv\u001b[39m\u001b[39m\"\u001b[39m,names\u001b[39m=\u001b[39m[\u001b[39m\"\u001b[39m\u001b[39msepallenghth\u001b[39m\u001b[39m\"\u001b[39m,\u001b[39m\"\u001b[39m\u001b[39msepalwidth\u001b[39m\u001b[39m\"\u001b[39m,\u001b[39m\"\u001b[39m\u001b[39mpetallength\u001b[39m\u001b[39m\"\u001b[39m,\n\u001b[0;32m      <a href='vscode-notebook-cell:/d%3A/Practical/sol/Slip/slip1/s1.ipynb#W0sZmlsZQ%3D%3D?line=2'>3</a>\u001b[0m                                \u001b[39m\"\u001b[39m\u001b[39mpetalwidth\u001b[39m\u001b[39m\"\u001b[39m,\u001b[39m\"\u001b[39m\u001b[39mclass\u001b[39m\u001b[39m\"\u001b[39m])\n\u001b[1;32m----> <a href='vscode-notebook-cell:/d%3A/Practical/sol/Slip/slip1/s1.ipynb#W0sZmlsZQ%3D%3D?line=3'>4</a>\u001b[0m ax\u001b[39m=\u001b[39mplt\u001b[39m.\u001b[39msubplots(\u001b[39m1\u001b[39m,\u001b[39m1\u001b[39m,figsize\u001b[39m=\u001b[39m(\u001b[39m10\u001b[39m,\u001b[39m8\u001b[39m))\n\u001b[0;32m      <a href='vscode-notebook-cell:/d%3A/Practical/sol/Slip/slip1/s1.ipynb#W0sZmlsZQ%3D%3D?line=4'>5</a>\u001b[0m df[\u001b[39m'\u001b[39m\u001b[39mclass\u001b[39m\u001b[39m'\u001b[39m]\u001b[39m.\u001b[39mvalue_counts()\u001b[39m.\u001b[39mplot\u001b[39m.\u001b[39mpie(explode\u001b[39m=\u001b[39m[\u001b[39m0.1\u001b[39m,\u001b[39m0.1\u001b[39m,\u001b[39m0.1\u001b[39m],autopct\u001b[39m=\u001b[39m\u001b[39m'\u001b[39m\u001b[39m%1.1f\u001b[39;00m\u001b[39m%%\u001b[39;00m\u001b[39m'\u001b[39m,shadow\u001b[39m=\u001b[39m\u001b[39mTrue\u001b[39;00m,figsize\u001b[39m=\u001b[39m(\u001b[39m10\u001b[39m,\u001b[39m8\u001b[39m))\n\u001b[0;32m      <a href='vscode-notebook-cell:/d%3A/Practical/sol/Slip/slip1/s1.ipynb#W0sZmlsZQ%3D%3D?line=5'>6</a>\u001b[0m plt\u001b[39m.\u001b[39mtitle(\u001b[39m\"\u001b[39m\u001b[39mIris Species \u001b[39m\u001b[39m%\u001b[39m\u001b[39m\"\u001b[39m)\n",
      "\u001b[1;31mNameError\u001b[0m: name 'plt' is not defined"
     ]
    }
   ],
   "source": [
    "from pandas import *\n",
    "df=read_csv(r\"iris.csv\",names=[\"sepallenghth\",\"sepalwidth\",\"petallength\",\n",
    "                               \"petalwidth\",\"class\"])\n",
    "ax=plt.subplots(1,1,figsize=(10,8))\n",
    "df['class'].value_counts().plot.pie(explode=[0.1,0.1,0.1],autopct='%1.1f%%',shadow=True,figsize=(10,8))\n",
    "plt.title(\"Iris Species %\")\n",
    "plt.show()\n"
   ]
  },
  {
   "cell_type": "code",
   "execution_count": 5,
   "id": "d44e0602-28c7-4a99-ac3a-4dff08813b2b",
   "metadata": {},
   "outputs": [
    {
     "name": "stdout",
     "output_type": "stream",
     "text": [
      "       fixed acidity  volatile acidity  citric acid  residual sugar  \\\n",
      "count    4898.000000       4898.000000  4898.000000     4898.000000   \n",
      "mean        6.854788          0.278241     0.334192        6.391415   \n",
      "std         0.843868          0.100795     0.121020        5.072058   \n",
      "min         3.800000          0.080000     0.000000        0.600000   \n",
      "25%         6.300000          0.210000     0.270000        1.700000   \n",
      "50%         6.800000          0.260000     0.320000        5.200000   \n",
      "75%         7.300000          0.320000     0.390000        9.900000   \n",
      "max        14.200000          1.100000     1.660000       65.800000   \n",
      "\n",
      "         chlorides  free sulfur dioxide  total sulfur dioxide      density  \\\n",
      "count  4898.000000          4898.000000           4898.000000  4898.000000   \n",
      "mean      0.045772            35.308085            138.360657     0.994027   \n",
      "std       0.021848            17.007137             42.498065     0.002991   \n",
      "min       0.009000             2.000000              9.000000     0.987110   \n",
      "25%       0.036000            23.000000            108.000000     0.991723   \n",
      "50%       0.043000            34.000000            134.000000     0.993740   \n",
      "75%       0.050000            46.000000            167.000000     0.996100   \n",
      "max       0.346000           289.000000            440.000000     1.038980   \n",
      "\n",
      "                pH    sulphates      alcohol      quality  \n",
      "count  4898.000000  4898.000000  4898.000000  4898.000000  \n",
      "mean      3.188267     0.489847    10.514267     5.877909  \n",
      "std       0.151001     0.114126     1.230621     0.885639  \n",
      "min       2.720000     0.220000     8.000000     3.000000  \n",
      "25%       3.090000     0.410000     9.500000     5.000000  \n",
      "50%       3.180000     0.470000    10.400000     6.000000  \n",
      "75%       3.280000     0.550000    11.400000     6.000000  \n",
      "max       3.820000     1.080000    14.200000     9.000000  \n"
     ]
    }
   ],
   "source": [
    "import pandas as pd\n",
    "import matplotlib.pyplot as plt\n",
    "df= pd.read_csv(\"wine-quality.csv\")\n",
    "print(df.describe())"
   ]
  },
  {
   "cell_type": "code",
   "execution_count": null,
   "id": "57541a3f-8311-4fca-ba92-df9f4a6e6462",
   "metadata": {},
   "outputs": [],
   "source": []
  }
 ],
 "metadata": {
  "kernelspec": {
   "display_name": "Python 3 (ipykernel)",
   "language": "python",
   "name": "python3"
  },
  "language_info": {
   "codemirror_mode": {
    "name": "ipython",
    "version": 3
   },
   "file_extension": ".py",
   "mimetype": "text/x-python",
   "name": "python",
   "nbconvert_exporter": "python",
   "pygments_lexer": "ipython3",
   "version": "3.11.6"
  }
 },
 "nbformat": 4,
 "nbformat_minor": 5
}
