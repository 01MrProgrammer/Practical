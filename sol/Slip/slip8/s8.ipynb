{
 "cells": [
  {
   "cell_type": "code",
   "execution_count": 6,
   "id": "532ac560-b534-4fd6-95f7-43cf4d1a8788",
   "metadata": {},
   "outputs": [
    {
     "name": "stdout",
     "output_type": "stream",
     "text": [
      "   fixed acidity  volatile acidity  citric acid  residual sugar  chlorides  \\\n",
      "0            7.4              0.70         0.00             1.9      0.076   \n",
      "1            7.8              0.88         0.00             2.6      0.098   \n",
      "2            7.8              0.76         0.04             2.3      0.092   \n",
      "3           11.2              0.28         0.56             1.9      0.075   \n",
      "4            7.4              0.70         0.00             1.9      0.076   \n",
      "\n",
      "   free sulfur dioxide  total sulfur dioxide   density    pH  sulphates  \\\n",
      "0                 11.0                  34.0  0.558274  3.51       0.56   \n",
      "1                 25.0                  67.0  0.028261  3.20       0.68   \n",
      "2                 15.0                  54.0  0.134264  3.26       0.65   \n",
      "3                 17.0                  60.0  0.664277  3.16       0.58   \n",
      "4                 11.0                  34.0  0.558274  3.51       0.56   \n",
      "\n",
      "    alcohol  quality  \n",
      "0 -0.960246        5  \n",
      "1 -0.584777        5  \n",
      "2 -0.584777        5  \n",
      "3 -0.584777        6  \n",
      "4 -0.960246        5  \n"
     ]
    }
   ],
   "source": [
    "#s8\n",
    "import pandas as pd\n",
    "from sklearn.preprocessing import StandardScaler\n",
    "data = pd.read_csv('winequality-red.csv')\n",
    "features_to_standardize = ['alcohol', 'density']\n",
    "scaler = StandardScaler()\n",
    "data[features_to_standardize] = scaler.fit_transform(data[features_to_standardize])\n",
    "print(data.head())"
   ]
  }
 ],
 "metadata": {
  "kernelspec": {
   "display_name": "Python 3 (ipykernel)",
   "language": "python",
   "name": "python3"
  },
  "language_info": {
   "codemirror_mode": {
    "name": "ipython",
    "version": 3
   },
   "file_extension": ".py",
   "mimetype": "text/x-python",
   "name": "python",
   "nbconvert_exporter": "python",
   "pygments_lexer": "ipython3",
   "version": "3.10.7"
  }
 },
 "nbformat": 4,
 "nbformat_minor": 5
}
